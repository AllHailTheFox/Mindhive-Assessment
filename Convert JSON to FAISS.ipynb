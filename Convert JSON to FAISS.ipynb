{
 "cells": [
  {
   "cell_type": "code",
   "execution_count": null,
   "id": "f6e7a15d",
   "metadata": {},
   "outputs": [],
   "source": [
    "from langchain.vectorstores import FAISS\n",
    "from langchain.embeddings import HuggingFaceEmbeddings\n",
    "from langchain.docstore.document import Document\n",
    "import json\n",
    "\n",
    "# Load your simplified JSON\n",
    "with open(r\"C:\\Users\\Ervyn\\Downloads\\Mindhive\\Hivemine FIASS-Ready.txt\", \"r\", encoding=\"utf-8\") as f:\n",
    "    product_data = json.load(f)\n",
    "\n",
    "# Use HuggingFace embeddings (or swap with OpenAI if needed)\n",
    "embedding_model = HuggingFaceEmbeddings(model_name=\"sentence-transformers/all-MiniLM-L6-v2\")\n",
    "\n",
    "# Turn each product into a LangChain Document\n",
    "docs = []\n",
    "for item in product_data:\n",
    "    content = f\"{item['name']}. {item['description']}. Features: {', '.join(item.get('features', []))}.\"\n",
    "    metadata = {k: v for k, v in item.items() if k != \"features\" and k != \"description\" and k != \"name\"}\n",
    "    docs.append(Document(page_content=content, metadata=metadata))\n",
    "\n",
    "# Create FAISS index\n",
    "vectorstore = FAISS.from_documents(docs, embedding_model)\n",
    "\n",
    "# Save it to disk\n",
    "vectorstore.save_local(\"faiss_zus_products\")\n"
   ]
  },
  {
   "cell_type": "code",
   "execution_count": 3,
   "id": "830944f7",
   "metadata": {},
   "outputs": [
    {
     "name": "stdout",
     "output_type": "stream",
     "text": [
      "📄 Content: ZUS All Day Cup 500ml (17oz) - Aqua Collection. Bold, playful, and a thrill-seeker. These cups are your perfect 'All Day' companion, keeping drinks hot or cold up to 16 hours.. Features: BPA Free, Stainless Steel, Hot & Cold Friendly, Double-walled vacuum insulation, Dual-purpose lid, Leak proof lid, 10% BYZT Program Eligible.\n",
      "🧾 Metadata: {'id': 'product_1', 'price': 'RM79.00', 'status': 'Sold Out', 'colors': ['Misty Blue', 'Ocean Breeze', 'Blue Lagoon', 'Deep Sea'], 'materials': ['SUS304', 'PP', 'Silicone'], 'volume': '500ml', 'use_case': 'Everyday drink cup for hot or cold beverages.'}\n",
      "📄 Content: ZUS Reusable Straw Kit - Corak Malaysia Collection. A reusable straw kit from the Corak Malaysia collection — portable, eco-friendly, and stylish.. Features: Portable, Reusable, Eco-friendly.\n",
      "🧾 Metadata: {'id': 'product_2', 'price': 'RM15.90', 'status': 'In Stock', 'colors': ['Creamy Beige'], 'materials': ['Stainless Steel', 'Plastic'], 'use_case': 'Eco-conscious alternative to disposable straws.'}\n",
      "📄 Content: [Corak Malaysia] Tiga Sekawan Bundle. Celebrate local culture with this bundle featuring 3 designs: Malaysiaku, Bunga Tabur, and Pua Kumbu.. Features: Corak Malaysia All Day Cup with cultural designs, Reusable Straw Kit with silicone tip and brush, Adjustable synthetic leather Cup Sleeve.\n",
      "🧾 Metadata: {'id': 'product_3', 'price': 'RM133.90', 'status': 'Sold Out', 'designs': ['Malaysiaku', 'Bunga Tabur', 'Pua Kumbu'], 'materials': ['Cup: SUS304, PP, Silicone', 'Straw: Stainless Steel, Silicone, Metal', 'Cup Sleeve: Synthetic Leather, Nylon'], 'volume': '500ml', 'use_case': 'Gift set or cultural appreciation bundle for daily beverage use.'}\n"
     ]
    }
   ],
   "source": [
    "from langchain.vectorstores import FAISS\n",
    "from langchain.embeddings import HuggingFaceEmbeddings\n",
    "\n",
    "embedding_model = HuggingFaceEmbeddings(model_name=\"sentence-transformers/all-MiniLM-L6-v2\")\n",
    "vectorstore = FAISS.load_local(\n",
    "    r\"C:\\Users\\Ervyn\\Downloads\\Mindhive\\faiss_zus_products\",\n",
    "    embeddings=embedding_model,\n",
    "    allow_dangerous_deserialization=True  # 🔓 Add this!\n",
    ")\n",
    "\n",
    "# View contents\n",
    "docs = vectorstore.docstore._dict.values()\n",
    "for doc in docs:\n",
    "    print(\"📄 Content:\", doc.page_content)\n",
    "    print(\"🧾 Metadata:\", doc.metadata)\n"
   ]
  }
 ],
 "metadata": {
  "kernelspec": {
   "display_name": ".venv",
   "language": "python",
   "name": "python3"
  },
  "language_info": {
   "codemirror_mode": {
    "name": "ipython",
    "version": 3
   },
   "file_extension": ".py",
   "mimetype": "text/x-python",
   "name": "python",
   "nbconvert_exporter": "python",
   "pygments_lexer": "ipython3",
   "version": "3.13.3"
  }
 },
 "nbformat": 4,
 "nbformat_minor": 5
}
